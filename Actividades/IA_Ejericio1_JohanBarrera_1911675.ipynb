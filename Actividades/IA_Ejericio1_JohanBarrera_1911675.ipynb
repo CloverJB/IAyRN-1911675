{
  "nbformat": 4,
  "nbformat_minor": 0,
  "metadata": {
    "colab": {
      "provenance": [],
      "collapsed_sections": []
    },
    "kernelspec": {
      "name": "python3",
      "display_name": "Python 3"
    },
    "language_info": {
      "name": "python"
    }
  },
  "cells": [
    {
      "cell_type": "markdown",
      "source": [
        "**Actividad 2.** Nombre: Johan Alexandro Barrera González; Matricula: 1911675; Hora: N1\n",
        "\n",
        "Ejercicios:\n",
        "\n",
        "1. Escribe un programa que le pida al usuario por su nombre y que lo salude con su nombre, excepto si se llama \"Ana\", \"Juan\" y \"Pedro\"."
      ],
      "metadata": {
        "id": "JZxFvzL-LZ7c"
      }
    },
    {
      "cell_type": "code",
      "execution_count": 1,
      "metadata": {
        "colab": {
          "base_uri": "https://localhost:8080/"
        },
        "id": "-BUHdPwVHako",
        "outputId": "3d5b1002-cb81-45fa-b267-6e4f2df5a3e2"
      },
      "outputs": [
        {
          "output_type": "stream",
          "name": "stdout",
          "text": [
            "Hola, ¿Como te llamas? Johan\n",
            "Mucho gusto Johan Soy Python\n"
          ]
        }
      ],
      "source": [
        "#Saludo\n",
        "nombre=input(\"Hola, ¿Como te llamas?\")\n",
        "if nombre==\"Ana\" or nombre==\"Juan\" or nombre==\"Pedro\" :\n",
        " print(\"Lo siento, no puedo saludarte\")\n",
        "else:\n",
        " print(\"Mucho gusto\"+ nombre, \"Soy Python\")"
      ]
    },
    {
      "cell_type": "markdown",
      "source": [
        "2. Escribe una función que regrese el último elemento de una lista y que revierta el orden de la lista e impirma la lista revertida."
      ],
      "metadata": {
        "id": "7wtmhbNfSILC"
      }
    },
    {
      "cell_type": "code",
      "source": [
        "lista = [\"Roberto\", \"Ricky\", \"Alvin\", \"Santi\"] \n",
        "print(\"Los integrantes originales del cuarteto de nos son:\")\n",
        "print(lista)\n",
        "def mi_funcion(lista):\n",
        "  #Ultimo elemento de la lista\n",
        "   print(lista[-1])\n",
        "  #Lista revertida\n",
        "   print(lista[::-1])\n",
        "mi_funcion(lista)\n"
      ],
      "metadata": {
        "colab": {
          "base_uri": "https://localhost:8080/"
        },
        "id": "cZ1KYfCdLakQ",
        "outputId": "5c2d2535-57eb-45de-ea99-146d5c5e8b00"
      },
      "execution_count": 2,
      "outputs": [
        {
          "output_type": "stream",
          "name": "stdout",
          "text": [
            "Los integrantes originales del cuarteto de nos son:\n",
            "['Roberto', 'Ricky', 'Alvin', 'Santi']\n",
            "Santi\n",
            "['Santi', 'Alvin', 'Ricky', 'Roberto']\n"
          ]
        }
      ]
    },
    {
      "cell_type": "markdown",
      "source": [
        "3. Escribe una función que toma una lista de strings y los imprima linea por linea en un macro rectangular"
      ],
      "metadata": {
        "id": "jNxhoccxZugW"
      }
    },
    {
      "cell_type": "code",
      "source": [
        "lista1 = [\"************\", \"* Hoy      *\", \"* estoy    *\", \"* raro     *\", \"* y        *\", \"* no       *\", \"* entiendo *\", \"* porqué   *\", \"************\"]\n",
        "def raro(lista1):\n",
        " for x in lista1:\n",
        "  print(x)\n",
        "raro(lista1)"
      ],
      "metadata": {
        "colab": {
          "base_uri": "https://localhost:8080/"
        },
        "id": "lvULIUA3Z74v",
        "outputId": "4090ce1c-570a-471f-8575-afe7d6e2ca1e"
      },
      "execution_count": 3,
      "outputs": [
        {
          "output_type": "stream",
          "name": "stdout",
          "text": [
            "************\n",
            "* Hoy      *\n",
            "* estoy    *\n",
            "* raro     *\n",
            "* y        *\n",
            "* no       *\n",
            "* entiendo *\n",
            "* porqué   *\n",
            "************\n"
          ]
        }
      ]
    }
  ]
}